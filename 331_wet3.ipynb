{
  "cells": [
    {
      "cell_type": "markdown",
      "metadata": {
        "id": "view-in-github",
        "colab_type": "text"
      },
      "source": [
        "<a href=\"https://colab.research.google.com/github/purinreki/WET2.0/blob/main/331_wet3.ipynb\" target=\"_parent\"><img src=\"https://colab.research.google.com/assets/colab-badge.svg\" alt=\"Open In Colab\"/></a>"
      ]
    },
    {
      "cell_type": "markdown",
      "id": "3b72bdac-c4cc-4b65-874c-8b604c9a2b4d",
      "metadata": {
        "id": "3b72bdac-c4cc-4b65-874c-8b604c9a2b4d"
      },
      "source": [
        "## WET 3.0 - Global Wetland Extent Tool\n",
        "### WET Water Resources, JPL Spring 2023\n",
        "#### Lori Berberian (Project Lead), Kaely Harris, Mitch Porter, and Emma Waugh"
      ]
    },
    {
      "cell_type": "markdown",
      "id": "5dd041f0-f245-4b09-b1fc-6d3e222003db",
      "metadata": {
        "id": "5dd041f0-f245-4b09-b1fc-6d3e222003db"
      },
      "source": [
        "#### 1: Import Modules and Initialize GEE\n",
        "**INPUT REQUIRED** : Enter Google Earth Engine account credentials when prompted in a new window"
      ]
    },
    {
      "cell_type": "code",
      "source": [],
      "metadata": {
        "id": "7tWJnbP4PnP0"
      },
      "id": "7tWJnbP4PnP0",
      "execution_count": null,
      "outputs": []
    },
    {
      "cell_type": "code",
      "execution_count": 22,
      "metadata": {
        "tags": [],
        "colab": {
          "base_uri": "https://localhost:8080/",
          "height": 158
        },
        "id": "059e7a05-8caa-48d9-b833-fe5298368b25",
        "outputId": "71be5eba-dfbd-428e-c61d-403dc6cdeccf"
      },
      "outputs": [
        {
          "output_type": "display_data",
          "data": {
            "text/plain": [
              "<IPython.core.display.HTML object>"
            ],
            "text/html": [
              "\n",
              "            <style>\n",
              "                .geemap-dark {\n",
              "                    --jp-widgets-color: white;\n",
              "                    --jp-widgets-label-color: white;\n",
              "                    --jp-ui-font-color1: white;\n",
              "                    --jp-layout-color2: #454545;\n",
              "                    background-color: #383838;\n",
              "                }\n",
              "                    \n",
              "                .geemap-dark .jupyter-button {\n",
              "                    --jp-layout-color3: #383838;\n",
              "                }\n",
              "                \n",
              "                .geemap-colab {\n",
              "                    background-color: var(--colab-primary-surface-color, white);\n",
              "                }\n",
              "                    \n",
              "                .geemap-colab .jupyter-button {\n",
              "                    --jp-layout-color3: var(--colab-primary-surface-color, white);\n",
              "                }\n",
              "            </style>\n",
              "            "
            ]
          },
          "metadata": {}
        },
        {
          "output_type": "stream",
          "name": "stdout",
          "text": [
            "Requirement already satisfied: oauth2client in /usr/local/lib/python3.10/dist-packages (4.1.3)\n",
            "Requirement already satisfied: httplib2>=0.9.1 in /usr/local/lib/python3.10/dist-packages (from oauth2client) (0.22.0)\n",
            "Requirement already satisfied: pyasn1>=0.1.7 in /usr/local/lib/python3.10/dist-packages (from oauth2client) (0.5.1)\n",
            "Requirement already satisfied: pyasn1-modules>=0.0.5 in /usr/local/lib/python3.10/dist-packages (from oauth2client) (0.3.0)\n",
            "Requirement already satisfied: rsa>=3.1.4 in /usr/local/lib/python3.10/dist-packages (from oauth2client) (4.9)\n",
            "Requirement already satisfied: six>=1.6.1 in /usr/local/lib/python3.10/dist-packages (from oauth2client) (1.16.0)\n",
            "Requirement already satisfied: pyparsing!=3.0.0,!=3.0.1,!=3.0.2,!=3.0.3,<4,>=2.4.2 in /usr/local/lib/python3.10/dist-packages (from httplib2>=0.9.1->oauth2client) (3.1.1)\n"
          ]
        }
      ],
      "source": [
        "# Import necessary libraries\n",
        "\n",
        "#!pip install matplotlib.pyplot\n",
        "#!pip install tkcalendar\n",
        "#!pip install tkinter\n",
        "#!pip install rasterio\n",
        "#!pip install pandas\n",
        "#!pip install geopandas\n",
        "!pip install oauth2client\n",
        "\n",
        "#import geemap\n",
        "#import seaborn\n",
        "#import matplotlib.pyplot as plt\n",
        "#import pandas as pd\n",
        "#import tkinter as tk\n",
        "#from tkcalendar import DateEntry\n",
        "#import rasterio\n",
        "#import geopandas as gpd\n",
        "#import oauth2client\n",
        "\n",
        "# Trigger the authentication flow.\n",
        "#ee.Authenticate()\n",
        "NASA_SWC_GEE = 'ee-trejor1823'\n",
        "# Initialize the library.\n",
        "ee.Initialize(project=NASA_SWC_GEE)"
      ],
      "id": "059e7a05-8caa-48d9-b833-fe5298368b25"
    },
    {
      "cell_type": "markdown",
      "id": "d92c2e83-aaf1-4bab-a1dd-c5bfb59fef06",
      "metadata": {
        "id": "d92c2e83-aaf1-4bab-a1dd-c5bfb59fef06"
      },
      "source": [
        "#### 2: Select Date Range & ROI\n",
        "**INPUT REQUIRED** : Draw ROI on map\n",
        "- rerun the following cell to reset map if needed"
      ]
    },
    {
      "cell_type": "code",
      "execution_count": 23,
      "id": "8952e50e-9b1c-429c-b966-c0c3fcc1ca00",
      "metadata": {
        "colab": {
          "base_uri": "https://localhost:8080/",
          "height": 621,
          "referenced_widgets": [
            "2fb1cef2a9b24d22b1c2a0e0f335ca2e",
            "7abe64bb5fe04e58b8673d1b0ac56799",
            "345583ecbb084e5e80f40d829bcac41a",
            "55f23f2de5f54d51b7e16e0fb5276a62",
            "f828b529b8d94e9eb628fe4df00716c5",
            "e1f23f90faff4316a11e26956d01a8d8",
            "3836d57e79bc456981575c148c02d0a6",
            "3e9e6f2129274769976a22fd70f70aec",
            "8847c77e16594c52b2143f64f7b50524",
            "7050d5b5e5f741db94be6de000269318",
            "d372ece9de7e437386d998265b861ad8",
            "21f81e721eec48aebce25ec0b501e217",
            "4ac35d396c33446583c2c5cebabeb484",
            "cfafa54f1c14412292c376dba10dcb7d",
            "814b3365ee6a41768993d1d595a19daa",
            "0b21fec06ab843fba952ab1aca3b6d35",
            "5f82c66bad0e45ea831df84c22955e76",
            "aafa0cdfb3c845fda1326096f78b97a4",
            "c6d1feafe3044636a8ba95054f9df42b",
            "34ac5c4a6fb94f198044b1d8b7438f2f",
            "31cf3aba59f74af59a3c19b47a4024e9",
            "f1b56cff18b84cd099f00dbc24d5819e",
            "ac6089332e294f32b7251eef65bb0232",
            "cb727c17313a4271947df0a4a5387983",
            "6693b8d67c77407d9a5c25feb3cf219a"
          ]
        },
        "id": "8952e50e-9b1c-429c-b966-c0c3fcc1ca00",
        "outputId": "2b7af7ee-ceaf-4e8e-f4ca-450aa233bc5e"
      },
      "outputs": [
        {
          "output_type": "display_data",
          "data": {
            "text/plain": [
              "<IPython.core.display.HTML object>"
            ],
            "text/html": [
              "\n",
              "            <style>\n",
              "                .geemap-dark {\n",
              "                    --jp-widgets-color: white;\n",
              "                    --jp-widgets-label-color: white;\n",
              "                    --jp-ui-font-color1: white;\n",
              "                    --jp-layout-color2: #454545;\n",
              "                    background-color: #383838;\n",
              "                }\n",
              "                    \n",
              "                .geemap-dark .jupyter-button {\n",
              "                    --jp-layout-color3: #383838;\n",
              "                }\n",
              "                \n",
              "                .geemap-colab {\n",
              "                    background-color: var(--colab-primary-surface-color, white);\n",
              "                }\n",
              "                    \n",
              "                .geemap-colab .jupyter-button {\n",
              "                    --jp-layout-color3: var(--colab-primary-surface-color, white);\n",
              "                }\n",
              "            </style>\n",
              "            "
            ]
          },
          "metadata": {}
        },
        {
          "output_type": "display_data",
          "data": {
            "text/plain": [
              "Map(center=[0, 0], controls=(WidgetControl(options=['position', 'transparent_bg'], widget=SearchDataGUI(childr…"
            ],
            "application/vnd.jupyter.widget-view+json": {
              "version_major": 2,
              "version_minor": 0,
              "model_id": "2fb1cef2a9b24d22b1c2a0e0f335ca2e"
            }
          },
          "metadata": {
            "application/vnd.jupyter.widget-view+json": {
              "colab": {
                "custom_widget_manager": {
                  "url": "https://ssl.gstatic.com/colaboratory-static/widgets/colab-cdn-widget-manager/2b70e893a8ba7c0f/manager.min.js"
                }
              }
            }
          }
        }
      ],
      "source": [
        "# Initialize map\n",
        "Map = geemap.Map()\n",
        "\n",
        "Map.addLayerControl()\n",
        "Map"
      ]
    },
    {
      "cell_type": "markdown",
      "id": "5f16d062-6938-406e-ae4d-ef98f55460e0",
      "metadata": {
        "id": "5f16d062-6938-406e-ae4d-ef98f55460e0"
      },
      "source": [
        "##### Draw ROI on above map, then run the following cell"
      ]
    },
    {
      "cell_type": "code",
      "execution_count": null,
      "id": "fba9e89c-5bf4-4beb-b0d8-584e09bfc87e",
      "metadata": {
        "id": "fba9e89c-5bf4-4beb-b0d8-584e09bfc87e"
      },
      "outputs": [],
      "source": [
        "# Save ROI as FeatureCollection\n",
        "roi = ee.FeatureCollection(Map.draw_features)\n",
        "\n",
        "# Add the ROI as a layer to the map\n",
        "Map.addLayer(roi, {'color': 'grey'}, 'ROI')"
      ]
    },
    {
      "cell_type": "markdown",
      "id": "98bb1766-c049-4072-a3e4-42f88d6a8a94",
      "metadata": {
        "tags": [],
        "id": "98bb1766-c049-4072-a3e4-42f88d6a8a94"
      },
      "source": [
        "#### 3: Optional: Snow Cover Detection"
      ]
    },
    {
      "cell_type": "markdown",
      "id": "e53c2365-24b9-4f54-8f69-c5aeb6144d71",
      "metadata": {
        "id": "e53c2365-24b9-4f54-8f69-c5aeb6144d71"
      },
      "source": [
        "##### Import snow cover imagery and visualize timeseries"
      ]
    },
    {
      "cell_type": "code",
      "execution_count": null,
      "id": "1345e270-41b0-4e30-ac36-564c46390524",
      "metadata": {
        "id": "1345e270-41b0-4e30-ac36-564c46390524"
      },
      "outputs": [],
      "source": [
        "# Adjust dates to desired date range\n",
        "snow_start_date = '2020-10-15'\n",
        "snow_end_date = '2021-10-25'\n",
        "\n",
        "# Create MODIS image collection from defined date range and ROI\n",
        "modis = ee.ImageCollection('MODIS/006/MOD10A1').filter(ee.Filter.date(snow_start_date, snow_end_date))\n",
        "\n",
        "# Select Snow Cover product\n",
        "snowCover = modis.select('NDSI_Snow_Cover')\n",
        "\n",
        "# Define a function to clip each image in the collection to the ROI\n",
        "# Get a list of clipped images from the collection\n",
        "def clip_image(image):\n",
        "    return image.clip(roi)\n",
        "clipped_collection = snowCover.map(clip_image)\n",
        "clipped_images = clipped_collection.toList(clipped_collection.size())\n",
        "\n",
        "# Compute the mean value of the snow cover pixels within the ROI\n",
        "# This function uses the reduceRegion function to apply a reducer (ee.Reducer.mean()) over the\n",
        "# specified geometry (ROI) and scale (500 meters).\n",
        "def roi_mean(img):\n",
        "    mean = img.reduceRegion(reducer=ee.Reducer.mean(), geometry=roi, scale=500).get('NDSI_Snow_Cover')\n",
        "    return img.set('date', img.date().format()).set('mean',mean)\n",
        "\n",
        "# Creates a new collection with the mean values of snow cover for each image.\n",
        "roi_reduced_imgs = modis.map(roi_mean)\n",
        "\n",
        "# Create a nested list of the date and mean snow cover values for each image in the collection.\n",
        "# Convert to dataframe\n",
        "nested_list = roi_reduced_imgs.reduceColumns(ee.Reducer.toList(2), ['date','mean']).values().get(0)\n",
        "\n",
        "# Set date column to index of the dataframe\n",
        "df = pd.DataFrame(nested_list.getInfo(), columns=['date','mean'])\n",
        "df['date'] = pd.to_datetime(df['date'])\n",
        "df = df.set_index('date')\n",
        "\n",
        "# Create figure and axes, with the dimensions set to 15 x 7.\n",
        "fig, ax = plt.subplots(figsize=(15,7))\n",
        "\n",
        "# Create line plot of the daily mean snow cover values over time\n",
        "sns.lineplot(data=df, ax=ax)\n",
        "ax.set_ylabel('Snow Cover',fontsize=20)\n",
        "ax.set_xlabel('Date',fontsize=20)\n",
        "ax.set_title('Daily Mean Snow Cover',fontsize=20);\n",
        "ax.set_ylim([0, 100])\n",
        "ax.set_yticks(range(0, 101, 10))\n",
        "\n",
        "# A green shading below y values of 10:\n",
        "ax.fill_between(df.index, 0, df['mean'], where=(df['mean']<10), color='green', alpha=0.3)\n",
        "\n",
        "# Create figure and axes, with the dimensions set to 15 x 7.\n",
        "fig, ax = plt.subplots(figsize=(15,7))\n",
        "\n",
        "# Compute 7-day rolling average of daily mean snow cover and plot\n",
        "window=7\n",
        "sns.lineplot(data=df.rolling(window).mean(), ax=ax)\n",
        "ax.set_ylabel('Snow Cover',fontsize=20)\n",
        "ax.set_xlabel('Date',fontsize=20)\n",
        "ax.set_title(f'Daily Mean Snow Cover ({window} day rolling avg.)',fontsize=20)\n",
        "ax.set_ylim([0, 100])\n",
        "ax.set_yticks(range(0, 101, 10))\n",
        "\n",
        "# Add a horizontal line at y=10 with green shading below\n",
        "ax.axhline(y=10, color='green', linestyle='--', alpha=0.5)\n",
        "ax.fill_between(df.index, 0, 10, color='green', alpha=0.3)\n",
        "\n",
        "# Creates a plot that shows the daily mean snow cover values over time, with a rolling average\n",
        "# of 7 days and a horizontal line at y=10, indicating a threshold for significant snow cover.\n",
        "# The green shading below the line y=10 highlights periods when the snow cover was particularly low.\n",
        "df"
      ]
    },
    {
      "cell_type": "markdown",
      "id": "948b7357-445a-4d9f-8db7-b25de61f1308",
      "metadata": {
        "id": "948b7357-445a-4d9f-8db7-b25de61f1308"
      },
      "source": [
        "Limitations of the snow cover product: inaccurate indication of snow cover.\n",
        "When 7-day rolling average is below the y = 10 line, the snow cover can likely be ignored"
      ]
    },
    {
      "cell_type": "markdown",
      "id": "1d93170b-9e4f-43db-a84c-0228dacbe792",
      "metadata": {
        "tags": [],
        "id": "1d93170b-9e4f-43db-a84c-0228dacbe792"
      },
      "source": [
        "#### 4: Obtain SAR Imagery for Given Date Range and ROI"
      ]
    },
    {
      "cell_type": "code",
      "execution_count": null,
      "id": "408014bd-24b6-4d1a-aa83-1e7d5fc20b17",
      "metadata": {
        "id": "408014bd-24b6-4d1a-aa83-1e7d5fc20b17"
      },
      "outputs": [],
      "source": [
        "# Create image collection\n",
        "image_collection = ee.ImageCollection('COPERNICUS/S1_GRD_FLOAT') \\\n",
        "                .filter(ee.Filter.eq('instrumentMode', 'IW')) \\\n",
        "                .filterBounds(roi)\n",
        "\n",
        "# Clip filtered collection to ROI\n",
        "def clip_image(image):\n",
        "    return image.clip(roi)\n",
        "image_collection = image_collection.map(clip_image)"
      ]
    },
    {
      "cell_type": "markdown",
      "id": "ab82cb5d-f940-4e7b-8e13-e80cd578fe4d",
      "metadata": {
        "tags": [],
        "id": "ab82cb5d-f940-4e7b-8e13-e80cd578fe4d"
      },
      "source": [
        "##### Choose date range for SAR imagery based on above snow cover timeseries\n",
        "**INPUT REQUIRED** : Enter time in calendar widget\n",
        "\n",
        "Close widget before running the next cell"
      ]
    },
    {
      "cell_type": "code",
      "execution_count": null,
      "id": "d3357363-2f48-412b-b410-9342c8015f98",
      "metadata": {
        "id": "d3357363-2f48-412b-b410-9342c8015f98"
      },
      "outputs": [],
      "source": [
        "root = tk.Tk()\n",
        "\n",
        "# Create a starting date picker widget\n",
        "start_date_label = tk.Label(root, text = \"Starting Date (YYYY-MM-DD):\")\n",
        "start_date_label.pack(padx = 10, pady = 10)\n",
        "start_cal = DateEntry(root, width = 12, background = 'darkblue',\n",
        "                      foreground = 'white', borderwidth=2, date_pattern = 'yyyy-mm-dd')\n",
        "start_cal.pack(padx = 10, pady = 10)\n",
        "\n",
        "# Create an end date picker widget\n",
        "end_date_label = tk.Label(root, text = \"Ending Date (YYYY-MM-DD):\")\n",
        "end_date_label.pack(padx = 10, pady = 10)\n",
        "end_cal = DateEntry(root, width = 12, background = 'darkblue',\n",
        "                    foreground = 'white', borderwidth = 2, date_pattern = 'yyyy-mm-dd')\n",
        "end_cal.pack(padx = 10, pady = 10)\n",
        "\n",
        "# Define a function to filter the image collection using the selected dates\n",
        "def filter_image_collection():\n",
        "    global filtered_collection\n",
        "    start_date = start_cal.get_date().strftime('%Y-%m-%d')\n",
        "    end_date = end_cal.get_date().strftime('%Y-%m-%d')\n",
        "    filtered_collection = image_collection.filter(ee.Filter.date(start_date, end_date))\n",
        "    print(\"Filtered Collection Size: \", filtered_collection.size().getInfo())\n",
        "    print(\"Start Date: \", start_date)\n",
        "    print(\"End Date: \", end_date)\n",
        "    return filtered_collection\n",
        "\n",
        "#Create a button to filter the image collection\n",
        "filter_button = tk.Button(root, text = \"Filter\", command = filter_image_collection)\n",
        "filter_button.pack(padx = 10, pady = 10)\n",
        "\n",
        "root.mainloop()"
      ]
    },
    {
      "cell_type": "markdown",
      "id": "56c4b7cd-d856-414c-9d62-8374427b599c",
      "metadata": {
        "id": "56c4b7cd-d856-414c-9d62-8374427b599c"
      },
      "source": [
        "Optional: Print list of images in collection"
      ]
    },
    {
      "cell_type": "code",
      "execution_count": null,
      "id": "1a844512-e616-417a-a963-a2376204f5ed",
      "metadata": {
        "id": "1a844512-e616-417a-a963-a2376204f5ed"
      },
      "outputs": [],
      "source": [
        "# Uncomment the below lines to get a list of image dates from the collection\n",
        "image_dates = filtered_collection.toList(filtered_collection.size())\n",
        "image_dates"
      ]
    },
    {
      "cell_type": "markdown",
      "id": "5d30339f-a96d-4116-b8ac-ed095fc9d7fb",
      "metadata": {
        "id": "5d30339f-a96d-4116-b8ac-ed095fc9d7fb"
      },
      "source": [
        "#### 5: Prepare Imagery for Analysis"
      ]
    },
    {
      "cell_type": "markdown",
      "id": "556c354b-1d02-42b7-86cc-cc76835b547e",
      "metadata": {
        "id": "556c354b-1d02-42b7-86cc-cc76835b547e"
      },
      "source": [
        "##### Optional: Print relative orbit numbers. If there are more than one, that means the ROI covers more than one Sentinel-1 swath.\n",
        "Be aware that the change in incidence angle of the intersecting swaths can affect comparisons in your data."
      ]
    },
    {
      "cell_type": "code",
      "execution_count": null,
      "id": "a1b2be4d-5096-48e2-90f0-b5e8f40538bd",
      "metadata": {
        "id": "a1b2be4d-5096-48e2-90f0-b5e8f40538bd"
      },
      "outputs": [],
      "source": [
        "relative_orbits = filtered_collection.distinct('relativeOrbitNumber_start').aggregate_array('relativeOrbitNumber_start')\n",
        "print('Relative orbit numbers:', relative_orbits.getInfo())"
      ]
    },
    {
      "cell_type": "markdown",
      "id": "ec01f1db-a12f-4b75-932c-0962dad9479e",
      "metadata": {
        "tags": [],
        "id": "ec01f1db-a12f-4b75-932c-0962dad9479e"
      },
      "source": [
        "##### Create VV/VH ratio band"
      ]
    },
    {
      "cell_type": "code",
      "execution_count": null,
      "id": "2598a4c0-732a-4060-86d4-2d9f39c7ccaa",
      "metadata": {
        "id": "2598a4c0-732a-4060-86d4-2d9f39c7ccaa"
      },
      "outputs": [],
      "source": [
        "def add_ratio(image):\n",
        "    return image.addBands(image.select('VV').divide(image.select('VH')).rename('VV/VH'))\n",
        "\n",
        "filtered_collection = filtered_collection.map(add_ratio)"
      ]
    },
    {
      "cell_type": "markdown",
      "id": "5e97dcce-3184-4bb0-ab2a-65fdeb9bd478",
      "metadata": {
        "id": "5e97dcce-3184-4bb0-ab2a-65fdeb9bd478"
      },
      "source": [
        "##### Optional: Rolling averages to despeckle"
      ]
    },
    {
      "cell_type": "code",
      "execution_count": null,
      "id": "e31cb344-6cf6-4f7b-8b49-c86523e8e6fd",
      "metadata": {
        "id": "e31cb344-6cf6-4f7b-8b49-c86523e8e6fd"
      },
      "outputs": [],
      "source": [
        "# Temporal rolling average:\n",
        "# Define the temporal averaging parameter\n",
        "Nave_rolling = 2  # number of images in temporal rolling average\n",
        "\n",
        "# Define a function to apply the temporal rolling average to an image\n",
        "def apply_rolling_average(image):\n",
        "    # Define a collection of Nave_rolling images before and after the current image\n",
        "    collection = filtered_collection.filterDate(image.date().advance(-((Nave_rolling - 1) * 12), 'month'),\n",
        "                                                 image.date().advance(((Nave_rolling - 1) * 12), 'month'))\n",
        "    # Calculate the mean of the collection\n",
        "    mean_image = collection.mean()\n",
        "    return mean_image.copyProperties(image)\n",
        "\n",
        "# Apply the temporal rolling average to the filtered collection\n",
        "filtered_collection = filtered_collection.map(apply_rolling_average)\n",
        "\n",
        "vis_params = {'bands': ['VV'], 'min': 0.0, 'max': 0.5, 'opacity': 1.0, 'gamma': 2}\n",
        "Map.addLayer(filtered_collection.first(), vis_params, \"Temporal Rolling Avg.\")\n",
        "Map"
      ]
    },
    {
      "cell_type": "code",
      "execution_count": null,
      "id": "e6ac6415-b670-46eb-9cc5-ed6800770017",
      "metadata": {
        "id": "e6ac6415-b670-46eb-9cc5-ed6800770017"
      },
      "outputs": [],
      "source": [
        "# Spatial rolling average:\n",
        "# Define the spatial averaging parameter\n",
        "ispat = 1\n",
        "if ispat == 1:\n",
        "    pixel_spacing = 10  # Sentinel-1 SAR data has a pixel spacing of 10 m\n",
        "    kernel_size = int(pixel_spacing / 2) + 1\n",
        "    kernel = ee.Kernel.square(kernel_size, 'meters')\n",
        "\n",
        "    # Define a function to apply the spatial averaging kernel to an image\n",
        "    def apply_kernel(image):\n",
        "        return image.convolve(kernel)\n",
        "\n",
        "    # Apply the spatial averaging kernel to the SAR collection\n",
        "    filtered_collection = filtered_collection.map(apply_kernel)\n",
        "\n",
        "# Visualize the filtered collection clipped to the ROI\n",
        "roi_vis_params = {'bands': ['VV'], 'min': 0.0, 'max': 0.5, 'opacity': 1.0, 'gamma': 2}\n",
        "vis_params_class = {'bands': ['classified'], 'min': 1, 'max': 3, 'opacity': 1.0}\n",
        "Map.addLayer(filtered_collection.first(), roi_vis_params, \"VV Spatial Rolling Avg.\")\n",
        "Map"
      ]
    },
    {
      "cell_type": "markdown",
      "id": "0d6239dc-742b-4ff1-a559-306bf76b9cc0",
      "metadata": {
        "tags": [],
        "id": "0d6239dc-742b-4ff1-a559-306bf76b9cc0"
      },
      "source": [
        "##### Separate ascending and descending orbits\n",
        "Depending on location, the collection will have ascending or descending orbits or both.\n",
        "Because of differences in incidence angle, you need to separate them into separate collections and do analysis separately."
      ]
    },
    {
      "cell_type": "code",
      "execution_count": null,
      "id": "253db1da-0031-4de1-9d95-c6a9c9562b86",
      "metadata": {
        "id": "253db1da-0031-4de1-9d95-c6a9c9562b86"
      },
      "outputs": [],
      "source": [
        "sent_asc = filtered_collection.filter(ee.Filter.eq('orbitProperties_pass', 'ASCENDING'))\n",
        "sent_desc = filtered_collection.filter(ee.Filter.eq('orbitProperties_pass', 'DESCENDING'))\n",
        "\n",
        "if sent_asc.size().getInfo() > 0 and sent_desc.size().getInfo() > 0:\n",
        "    print('Both ascending and descending orbits are present.')\n",
        "else:\n",
        "    print('Only one orbit direction is present.')\n",
        "\n",
        "# Print the number of images in each collection\n",
        "print('Number of images in ascending collection:', sent_asc.size().getInfo())\n",
        "print('Number of images in descending collection:', sent_desc.size().getInfo())"
      ]
    },
    {
      "cell_type": "code",
      "execution_count": null,
      "id": "f2a4e7ec-8cbb-4caf-9a80-45c78004900f",
      "metadata": {
        "id": "f2a4e7ec-8cbb-4caf-9a80-45c78004900f"
      },
      "outputs": [],
      "source": [
        "def mosaic_by_date(ic):\n",
        "\n",
        "# Extract date (without time) from image properties and store it in a new property 'date'\n",
        "    ic = ic.map(lambda img: img.set('date', ee.Date(img.get('system:time_start')).format('YYYY-MM-dd')))\n",
        "\n",
        "# Get the distinct dates\n",
        "    distinct_dates = ic.distinct('date')\n",
        "\n",
        "\n",
        "# Define a function to mosaic images for each distinct date\n",
        "    def mosaic_on_date(date_image):\n",
        "        date = ee.Date(date_image.get('date'))\n",
        "        images_on_date = ic.filterDate(date, date.advance(1, 'day'))\n",
        "        return images_on_date.mosaic().copyProperties(date_image, ['date'])\n",
        "\n",
        "# Map the function over the distinct_dates collection\n",
        "    mosaic_list = distinct_dates.map(mosaic_on_date)\n",
        "    return ee.ImageCollection(mosaic_list)\n",
        "\n",
        "sent_desc = mosaic_by_date(sent_desc)\n",
        "sent_asc = mosaic_by_date(sent_asc)\n",
        "\n",
        "print('Number of mosaicked images in ascending collection:', sent_asc.size().getInfo())\n",
        "print('Number of mosaicked images in descending collection:', sent_desc.size().getInfo()) #returns error"
      ]
    },
    {
      "cell_type": "markdown",
      "id": "d12537d5-6b42-46f8-914a-440aa4df30e4",
      "metadata": {
        "tags": [],
        "id": "d12537d5-6b42-46f8-914a-440aa4df30e4"
      },
      "source": [
        "#### 6: Optional: Calculate relative change from mean for each image & display on map"
      ]
    },
    {
      "cell_type": "code",
      "execution_count": null,
      "id": "90047a62-fabe-478f-ab4c-dad9d1dc7bd0",
      "metadata": {
        "id": "90047a62-fabe-478f-ab4c-dad9d1dc7bd0"
      },
      "outputs": [],
      "source": [
        "# compute the mean image of the collection\n",
        "mean_asc = sent_asc.mean()\n",
        "mean_desc = sent_desc.mean()\n",
        "\n",
        "# iterate over each image in the collection, and calculate the relative difference from the mean\n",
        "def relative_change_asc(image):\n",
        "    return image.subtract(mean_asc).divide(mean_asc).abs()\n",
        "\n",
        "def relative_change_desc(image):\n",
        "    return image.subtract(mean_desc).divide(mean_desc).abs()\n",
        "\n",
        "relchange_asc = sent_asc.map(relative_change_asc)\n",
        "relchange_desc = sent_desc.map(relative_change_desc)\n",
        "\n",
        "# set visualization parameters - adjust min and max values as needed\n",
        "vis_params_relchange_vv = {'bands': ['VV'], 'min': 0.0, 'max': 0.8, 'opacity': 1.0, 'palette': ['000000', 'FFFFFF']}\n",
        "\n",
        "# get the list of images in the collection, then iteratively plot each image in the collection\n",
        "image_list_asc = relchange_desc.toList(relchange_asc.size())\n",
        "for i in range(relchange_asc.size().getInfo()):\n",
        "    image_index = i + 1\n",
        "    image = ee.Image(image_list_asc.get(i))\n",
        "    Map.addLayer(image, vis_params_relchange_vv, f'Image {image_index}')\n",
        "\n",
        "\n",
        "image_list_desc = relchange_desc.toList(relchange_desc.size())\n",
        "for i in range(relchange_desc.size().getInfo()):\n",
        "    image_index = i + 1\n",
        "    image = ee.Image(image_list_desc.get(i))\n",
        "    Map.addLayer(image, vis_params_relchange_vv, f'Image {image_index}')\n",
        "\n",
        "Map.addLayerControl()\n",
        "Map"
      ]
    },
    {
      "cell_type": "markdown",
      "id": "c0943438-88ca-4a33-9504-64db5804601c",
      "metadata": {
        "id": "c0943438-88ca-4a33-9504-64db5804601c"
      },
      "source": [
        "#### 7: Visualize Data\n",
        "- Toggle layers to view\n",
        "- Use the trash can to \"clear all\" geometries to get rid of the blue box on top"
      ]
    },
    {
      "cell_type": "code",
      "execution_count": null,
      "id": "daf68d13-a7ed-486f-927c-4d2b4279310f",
      "metadata": {
        "tags": [],
        "id": "daf68d13-a7ed-486f-927c-4d2b4279310f"
      },
      "outputs": [],
      "source": [
        "vp_angle = {'bands': ['angle'], 'min': 0, 'max': 45, 'opacity': 1.0, 'palette': ['3cb371', '90ee90']}\n",
        "vis_params_vv = {'bands': ['VV'], 'min': 0.0, 'max': 0.5, 'opacity': 1.0, 'gamma': 2}\n",
        "vis_params_vh = {'bands': ['VH'], 'min': 0.0, 'max': 0.5, 'opacity': 1.0, 'gamma': 2}\n",
        "vis_params_ratio = {'bands': ['VV/VH'], 'min': 0.0, 'max': 20, 'opacity': 1.0, 'gamma': 2}\n",
        "\n",
        "Map.addLayer(sent_desc, vp_angle, \"Incidence Angle\")\n",
        "\n",
        "# add ascending layers to map, if present\n",
        "if sent_asc.size().getInfo() > 0:\n",
        "    Map.addLayer(sent_asc.mean(), vis_params_vv, \"Mean Ascending VV\")\n",
        "    Map.addLayer(sent_asc.mean(), vis_params_vh, \"Mean Ascending VH\")\n",
        "    Map.addLayer(sent_asc.mean(), vis_params_ratio, \"Mean Ascending VV/VH\")\n",
        "\n",
        "# add descending layers to map, if present\n",
        "if sent_desc.size().getInfo() > 0:\n",
        "    Map.addLayer(sent_desc.mean(), vis_params_vv, \"Mean Descending VV\")\n",
        "    Map.addLayer(sent_desc.mean(), vis_params_vh, \"Mean Descending VH\")\n",
        "    Map.addLayer(sent_desc.mean(), vis_params_ratio, \"Mean Descending VV/VH\")\n",
        "\n",
        "Map"
      ]
    },
    {
      "cell_type": "markdown",
      "id": "04ca4603-a878-41f9-aab7-fa2014f9562c",
      "metadata": {
        "id": "04ca4603-a878-41f9-aab7-fa2014f9562c"
      },
      "source": [
        "#### 8: Classify Imagery\n",
        "**INPUT REQUIRED** : Enter threshold values from thresholding script"
      ]
    },
    {
      "cell_type": "code",
      "execution_count": null,
      "id": "de42d5ab-a660-470c-bdd0-2ac3078e60ac",
      "metadata": {
        "id": "de42d5ab-a660-470c-bdd0-2ac3078e60ac"
      },
      "outputs": [],
      "source": [
        "# This code defines a function classify_image that takes a Sentinel-1 image and reclassifies\n",
        "# each pixel based on threshold values for VV and VH bands, assigning each pixel to a new class\n",
        "# based on whether it represents open water, inundated vegetation, or no water.\n",
        "# The function creates a new band for the classified image, assigns unclassified pixels to a new class\n",
        "# called \"no data\", and returns the input image with the new band added.\n",
        "import numpy as np\n",
        "import rasterio\n",
        "\n",
        "def classify_image(image, open_water_thresh, inundated_vegetation_thresh, ratio_thresholds, no_water_thresh):\n",
        "    \"\"\"\n",
        "    Create a new band by reclassifying each pixel in the input Sentinel-1 image\n",
        "    based on the given threshold values for VV and VH bands.\n",
        "\n",
        "    Args:\n",
        "        image (ee.Image): Sentinel-1 image to classify.\n",
        "        open_water_thresh (float): Threshold for open water classification.\n",
        "        inundated_vegetation_thresh (float): Threshold for inundated vegetation classification.\n",
        "        ratio_thresholds (list): List of two ratio thresholds for no water and inundated vegetation.\n",
        "        no_water_thresh (float): Threshold for no water classification.\n",
        "\n",
        "    Returns:\n",
        "        output_image (ee.Image): Classified Sentinel-1 image.\n",
        "    \"\"\"\n",
        "\n",
        "    # Select the VV and VH bands\n",
        "    vv = image.select('VV')\n",
        "    vh = image.select('VH')\n",
        "\n",
        "    # Calculate VV/VH ratio\n",
        "    ratio = vv.divide(vh)\n",
        "\n",
        "    # Create a new band for the classified image\n",
        "    classified = ee.Image(0).float()\n",
        "\n",
        "    # Reclassify each pixel based on threshold values\n",
        "    classified = classified.where(vv.lt(open_water_thresh), 1)  # open water\n",
        "    classified = classified.where(vv.gte(open_water_thresh).And(vv.lt(inundated_vegetation_thresh)), 2)  # inundated vegetation\n",
        "    classified = classified.where(vv.gte(0.1).And(vv.lt(0.2)).And(ratio.lt(ratio_thresholds[0])), 3)  # no water\n",
        "    classified = classified.where(vv.gte(0.1).And(vv.lt(0.2)).And(ratio.gte(ratio_thresholds[0])), 2)  # inundated vegetation\n",
        "    classified = classified.where(vv.gte(0.2).And(vv.lt(0.3)).And(ratio.lt(ratio_thresholds[1])), 3)  # no water\n",
        "    classified = classified.where(vv.gte(0.2).And(vv.lt(0.3)).And(ratio.gte(ratio_thresholds[1])), 2)  # inundated vegetation\n",
        "    classified = classified.where(vv.gte(no_water_thresh), 3) # no water\n",
        "\n",
        "    # Assign unclassified pixels to new class called no data with a value of 0\n",
        "    classified = classified.where(classified.eq(0), 0)\n",
        "\n",
        "    return image.addBands(classified)\n",
        "\n",
        "# Define threshold values\n",
        "open_water_thresh = 0.01\n",
        "inundated_vegetation_thresh = 0.1\n",
        "# 0.1 - 0.2 VV value ratio first, 0.2 - 0.3 VV value ratio second\n",
        "ratio_thresholds = [5.5, 8.5]\n",
        "# anything above this VV threshold is classified as no water\n",
        "no_water_thresh = 0.3\n",
        "\n",
        "# Classify the Sentinel-1 descending imagery\n",
        "classified_desc = sent_desc.map(lambda img: classify_image(img, open_water_thresh, inundated_vegetation_thresh, ratio_thresholds, no_water_thresh))\n",
        "\n",
        "# Classify the Sentinel-1 ascending imagery\n",
        "classified_asc = sent_asc.map(lambda img: classify_image(img, open_water_thresh, inundated_vegetation_thresh, ratio_thresholds, no_water_thresh))\n",
        "\n",
        "# Defines a list of class values and a color palette for visualizing the classified image\n",
        "class_values = [0, 1, 2, 3]\n",
        "class_palette = ['#ffffff', '#00008b', '#ADD8E6', '#D2B48C']\n",
        "\n",
        "# Add the ascending imagery to the map\n",
        "if sent_asc.size().getInfo() > 0:\n",
        "\n",
        "    classified_asc_list = classified_asc.toList(classified_asc.size())\n",
        "    for i in range(classified_asc_list.length().getInfo()):\n",
        "        img = ee.Image(classified_asc_list.get(i))\n",
        "        date = ee.Date(img.get('date')).format('YYYY-MM-dd').getInfo()\n",
        "        landcover = img.select('constant').set('class_values', class_values).set('class_palette', class_palette)\n",
        "        landcover = landcover.clip(roi)\n",
        "        Map.addLayer(landcover, {'min': 0, 'max': 3, 'palette': class_palette}, f'Ascending {date}')\n",
        "\n",
        "# Add the descending imagery to the map\n",
        "if sent_desc.size().getInfo() > 0:\n",
        "\n",
        "    classified_desc_list = classified_desc.toList(classified_desc.size())\n",
        "    for i in range(classified_desc_list.length().getInfo()):\n",
        "        img = ee.Image(classified_desc_list.get(i))\n",
        "        date = ee.Date(img.get('date')).format('YYYY-MM-dd').getInfo()\n",
        "        landcover = img.select('constant').set('class_values', class_values).set('class_palette', class_palette)\n",
        "        landcover = landcover.clip(roi)\n",
        "        Map.addLayer(landcover, {'min': 0, 'max': 3, 'palette': class_palette}, f'Descending {date}')\n",
        "\n",
        "Map"
      ]
    },
    {
      "cell_type": "code",
      "execution_count": null,
      "id": "578d2642-b510-4520-899f-4cca0fcd9edf",
      "metadata": {
        "id": "578d2642-b510-4520-899f-4cca0fcd9edf"
      },
      "outputs": [],
      "source": [
        "def calculate_areas(image, geometry):\n",
        "    area_image = image.select('constant').clip(geometry)\n",
        "    fixed_scale = 10  # You can adjust this value as needed. Higher values will overestimate dominant features and underestimate less common features\n",
        "\n",
        "    # Calculate the area for each land class separately\n",
        "    areas = {}\n",
        "    for land_class, land_class_name in zip([0, 1, 2, 3], ['No Data', 'Open Water', 'Inundated Vegetation', 'No Water']):\n",
        "        masked_image = area_image.eq(land_class)\n",
        "        area = masked_image.reduceRegion(reducer=ee.Reducer.sum(), geometry=geometry, scale=fixed_scale, maxPixels=1e9).getInfo()[\"constant\"]\n",
        "        areas[land_class_name] = (area * fixed_scale**2) / 1e6\n",
        "\n",
        "    return areas\n",
        "\n",
        "# Calculate the area of each land cover type for each image in the image collection\n",
        "if sent_desc.size().getInfo() > 0:\n",
        "    areas_data_desc = []\n",
        "    for i in range(classified_desc_list.length().getInfo()):\n",
        "        image = ee.Image(classified_desc_list.get(i))\n",
        "        areas = calculate_areas(image, roi)\n",
        "        areas['date'] = ee.Date(image.get('date')).format('YYYY-MM-dd').getInfo()\n",
        "        areas_data_desc.append(areas)\n",
        "\n",
        "    # Convert the list of area dictionaries to a pandas DataFrame\n",
        "    areas_df_desc = pd.DataFrame(areas_data_desc)\n",
        "    areas_df_desc['date'] = pd.to_datetime(areas_df_desc['date'])\n",
        "    areas_df = areas_df_desc.set_index('date')\n",
        "\n",
        "    # Print the content of the DataFrame\n",
        "    areas_df_desc = areas_df_desc.sort_index()\n",
        "    print(\"DataFrame content for descending imagery:\")\n",
        "    print(areas_df)\n",
        "\n",
        "    # Print basic statistics of the DataFrame\n",
        "    print(\"\\nBasic statistics for descending imagery:\")\n",
        "    print(areas_df.describe())\n",
        "\n",
        "    # Create a bar plot for the land cover types\n",
        "    bar_colors = ['#D3D3D3', '#00008b', '#ADD8E6', '#D2B48C']\n",
        "    ax = areas_df.plot(kind='bar', stacked=False, figsize=(12, 6), color=bar_colors)\n",
        "    ax.set_ylabel('Area (km²)')\n",
        "    ax.set_xlabel('Date')\n",
        "    ax.set_title('Total Area by Land Cover Type Across Image Collection for Descending Imagery')\n",
        "\n",
        "    plt.xticks(range(len(areas_df.index)), [x.strftime('%Y-%m-%d') for x in areas_df.index], rotation=45)\n",
        "    plt.legend(['No data', 'Open water', 'Inundated vegetation', 'No water'], loc='upper left', bbox_to_anchor=(1.02, 1.0))\n",
        "    plt.subplots_adjust(right=0.8)\n",
        "    plt.show()\n",
        "\n",
        "# Calculate the area of each land cover type for each image in the image collection\n",
        "if sent_desc.size().getInfo() > 0:\n",
        "    areas_data_asc = []\n",
        "    for i in range(classified_asc_list.length().getInfo()):\n",
        "        image = ee.Image(classified_asc_list.get(i))\n",
        "        areas = calculate_areas(image, roi)\n",
        "        areas['date'] = ee.Date(image.get('date')).format('YYYY-MM-dd').getInfo()\n",
        "        areas_data_asc.append(areas)\n",
        "\n",
        "    # Convert the list of area dictionaries to a pandas DataFrame\n",
        "    areas_df_asc = pd.DataFrame(areas_data_asc)\n",
        "    areas_df_asc['date'] = pd.to_datetime(areas_df_asc['date'])\n",
        "    areas_df_asc = areas_df_asc.set_index('date')\n",
        "\n",
        "    # Print the content of the DataFrame\n",
        "    areas_df_asc = areas_df_asc.sort_index()\n",
        "    print(\"DataFrame content for ascending imagery:\")\n",
        "    print(areas_df_asc)\n",
        "\n",
        "    # Print basic statistics of the DataFrame\n",
        "    print(\"\\nBasic statistics for ascending imagery:\")\n",
        "    print(areas_df_asc.describe())\n",
        "\n",
        "    # Create a bar plot for the land cover types for ascending imagery\n",
        "    bar_colors = ['#D3D3D3', '#00008b', '#ADD8E6', '#D2B48C']\n",
        "    ax = areas_df_asc.plot(kind='bar', stacked=False, figsize=(12, 6), color=bar_colors)\n",
        "    ax.set_ylabel('Area (km²)')\n",
        "    ax.set_xlabel('Date')\n",
        "    ax.set_title('Total Area by Land Cover Type Across Image Collection for Ascending Imagery')\n",
        "\n",
        "    plt.xticks(range(len(areas_df_asc.index)), [x.strftime('%Y-%m-%d') for x in areas_df_asc.index], rotation=45)\n",
        "    plt.legend(['No data', 'Open water', 'Inundated vegetation', 'No water'], loc='upper left', bbox_to_anchor=(1.02, 1.0))\n",
        "    plt.subplots_adjust(right=0.8)\n",
        "    plt.show()\n"
      ]
    }
  ],
  "metadata": {
    "kernelspec": {
      "display_name": "test_imports",
      "language": "python",
      "name": "test_imports"
    },
    "language_info": {
      "codemirror_mode": {
        "name": "ipython",
        "version": 3
      },
      "file_extension": ".py",
      "mimetype": "text/x-python",
      "name": "python",
      "nbconvert_exporter": "python",
      "pygments_lexer": "ipython3",
      "version": "3.10.13"
    },
    "colab": {
      "provenance": [],
      "include_colab_link": true
    },
    "widgets": {
      "application/vnd.jupyter.widget-state+json": {
        "2fb1cef2a9b24d22b1c2a0e0f335ca2e": {
          "model_module": "jupyter-leaflet",
          "model_name": "LeafletMapModel",
          "model_module_version": "^0.18",
          "state": {
            "_dom_classes": [],
            "_model_module": "jupyter-leaflet",
            "_model_module_version": "^0.18",
            "_model_name": "LeafletMapModel",
            "_view_count": null,
            "_view_module": "jupyter-leaflet",
            "_view_module_version": "^0.18",
            "_view_name": "LeafletMapView",
            "bottom": 812,
            "bounce_at_zoom_limits": true,
            "box_zoom": true,
            "center": [
              0,
              0
            ],
            "close_popup_on_click": true,
            "controls": [
              "IPY_MODEL_7abe64bb5fe04e58b8673d1b0ac56799",
              "IPY_MODEL_345583ecbb084e5e80f40d829bcac41a",
              "IPY_MODEL_55f23f2de5f54d51b7e16e0fb5276a62",
              "IPY_MODEL_f828b529b8d94e9eb628fe4df00716c5",
              "IPY_MODEL_e1f23f90faff4316a11e26956d01a8d8",
              "IPY_MODEL_3836d57e79bc456981575c148c02d0a6",
              "IPY_MODEL_3e9e6f2129274769976a22fd70f70aec",
              "IPY_MODEL_8847c77e16594c52b2143f64f7b50524",
              "IPY_MODEL_7050d5b5e5f741db94be6de000269318"
            ],
            "crs": {
              "name": "EPSG3857",
              "custom": false
            },
            "default_style": "IPY_MODEL_d372ece9de7e437386d998265b861ad8",
            "double_click_zoom": true,
            "dragging": true,
            "dragging_style": "IPY_MODEL_21f81e721eec48aebce25ec0b501e217",
            "east": 116.3671875,
            "fullscreen": false,
            "inertia": true,
            "inertia_deceleration": 3000,
            "inertia_max_speed": 1500,
            "interpolation": "bilinear",
            "keyboard": true,
            "keyboard_pan_offset": 80,
            "keyboard_zoom_offset": 1,
            "layers": [
              "IPY_MODEL_4ac35d396c33446583c2c5cebabeb484"
            ],
            "layout": "IPY_MODEL_cfafa54f1c14412292c376dba10dcb7d",
            "left": 181,
            "max_zoom": 24,
            "min_zoom": null,
            "modisdate": "2024-02-26",
            "north": 71.9653876991313,
            "options": [
              "bounce_at_zoom_limits",
              "box_zoom",
              "center",
              "close_popup_on_click",
              "double_click_zoom",
              "dragging",
              "fullscreen",
              "inertia",
              "inertia_deceleration",
              "inertia_max_speed",
              "interpolation",
              "keyboard",
              "keyboard_pan_offset",
              "keyboard_zoom_offset",
              "max_zoom",
              "min_zoom",
              "prefer_canvas",
              "scroll_wheel_zoom",
              "tap",
              "tap_tolerance",
              "touch_zoom",
              "world_copy_jump",
              "zoom",
              "zoom_animation_threshold",
              "zoom_delta",
              "zoom_snap"
            ],
            "panes": {},
            "prefer_canvas": false,
            "right": 843,
            "scroll_wheel_zoom": true,
            "south": -71.96538769913128,
            "style": "IPY_MODEL_814b3365ee6a41768993d1d595a19daa",
            "tap": true,
            "tap_tolerance": 15,
            "top": 212,
            "touch_zoom": true,
            "west": -116.3671875,
            "window_url": "https://6t5wpynymkx-496ff2e9c6d22116-0-colab.googleusercontent.com/outputframe.html?vrz=colab_20240226-060158_RC00_610357136",
            "world_copy_jump": false,
            "zoom": 2,
            "zoom_animation_threshold": 4,
            "zoom_delta": 1,
            "zoom_snap": 1
          }
        },
        "7abe64bb5fe04e58b8673d1b0ac56799": {
          "model_module": "jupyter-leaflet",
          "model_name": "LeafletWidgetControlModel",
          "model_module_version": "^0.18",
          "state": {
            "_model_module": "jupyter-leaflet",
            "_model_module_version": "^0.18",
            "_model_name": "LeafletWidgetControlModel",
            "_view_count": null,
            "_view_module": "jupyter-leaflet",
            "_view_module_version": "^0.18",
            "_view_name": "LeafletWidgetControlView",
            "max_height": null,
            "max_width": null,
            "min_height": null,
            "min_width": null,
            "options": [
              "position",
              "transparent_bg"
            ],
            "position": "topleft",
            "transparent_bg": false,
            "widget": "IPY_MODEL_0b21fec06ab843fba952ab1aca3b6d35"
          }
        },
        "345583ecbb084e5e80f40d829bcac41a": {
          "model_module": "jupyter-leaflet",
          "model_name": "LeafletZoomControlModel",
          "model_module_version": "^0.18",
          "state": {
            "_model_module": "jupyter-leaflet",
            "_model_module_version": "^0.18",
            "_model_name": "LeafletZoomControlModel",
            "_view_count": null,
            "_view_module": "jupyter-leaflet",
            "_view_module_version": "^0.18",
            "_view_name": "LeafletZoomControlView",
            "options": [
              "position",
              "zoom_in_text",
              "zoom_in_title",
              "zoom_out_text",
              "zoom_out_title"
            ],
            "position": "topleft",
            "zoom_in_text": "+",
            "zoom_in_title": "Zoom in",
            "zoom_out_text": "-",
            "zoom_out_title": "Zoom out"
          }
        },
        "55f23f2de5f54d51b7e16e0fb5276a62": {
          "model_module": "jupyter-leaflet",
          "model_name": "LeafletFullScreenControlModel",
          "model_module_version": "^0.18",
          "state": {
            "_model_module": "jupyter-leaflet",
            "_model_module_version": "^0.18",
            "_model_name": "LeafletFullScreenControlModel",
            "_view_count": null,
            "_view_module": "jupyter-leaflet",
            "_view_module_version": "^0.18",
            "_view_name": "LeafletFullScreenControlView",
            "options": [
              "position"
            ],
            "position": "topleft"
          }
        },
        "f828b529b8d94e9eb628fe4df00716c5": {
          "model_module": "jupyter-leaflet",
          "model_name": "LeafletDrawControlModel",
          "model_module_version": "^0.18",
          "state": {
            "_model_module": "jupyter-leaflet",
            "_model_module_version": "^0.18",
            "_model_name": "LeafletDrawControlModel",
            "_view_count": null,
            "_view_module": "jupyter-leaflet",
            "_view_module_version": "^0.18",
            "_view_name": "LeafletDrawControlView",
            "circle": {},
            "circlemarker": {},
            "data": [],
            "edit": true,
            "marker": {
              "shapeOptions": {
                "color": "#3388ff"
              }
            },
            "options": [
              "position"
            ],
            "polygon": {
              "shapeOptions": {}
            },
            "polyline": {
              "shapeOptions": {}
            },
            "position": "topleft",
            "rectangle": {
              "shapeOptions": {
                "color": "#3388ff"
              }
            },
            "remove": true
          }
        },
        "e1f23f90faff4316a11e26956d01a8d8": {
          "model_module": "jupyter-leaflet",
          "model_name": "LeafletScaleControlModel",
          "model_module_version": "^0.18",
          "state": {
            "_model_module": "jupyter-leaflet",
            "_model_module_version": "^0.18",
            "_model_name": "LeafletScaleControlModel",
            "_view_count": null,
            "_view_module": "jupyter-leaflet",
            "_view_module_version": "^0.18",
            "_view_name": "LeafletScaleControlView",
            "imperial": true,
            "max_width": 100,
            "metric": true,
            "options": [
              "imperial",
              "max_width",
              "metric",
              "position",
              "update_when_idle"
            ],
            "position": "bottomleft",
            "update_when_idle": false
          }
        },
        "3836d57e79bc456981575c148c02d0a6": {
          "model_module": "jupyter-leaflet",
          "model_name": "LeafletMeasureControlModel",
          "model_module_version": "^0.18",
          "state": {
            "_custom_units": {},
            "_model_module": "jupyter-leaflet",
            "_model_module_version": "^0.18",
            "_model_name": "LeafletMeasureControlModel",
            "_view_count": null,
            "_view_module": "jupyter-leaflet",
            "_view_module_version": "^0.18",
            "_view_name": "LeafletMeasureControlView",
            "active_color": "orange",
            "capture_z_index": 10000,
            "completed_color": "#C8F2BE",
            "options": [
              "active_color",
              "capture_z_index",
              "completed_color",
              "popup_options",
              "position",
              "primary_area_unit",
              "primary_length_unit",
              "secondary_area_unit",
              "secondary_length_unit"
            ],
            "popup_options": {
              "className": "leaflet-measure-resultpopup",
              "autoPanPadding": [
                10,
                10
              ]
            },
            "position": "bottomleft",
            "primary_area_unit": "acres",
            "primary_length_unit": "kilometers",
            "secondary_area_unit": null,
            "secondary_length_unit": null
          }
        },
        "3e9e6f2129274769976a22fd70f70aec": {
          "model_module": "jupyter-leaflet",
          "model_name": "LeafletWidgetControlModel",
          "model_module_version": "^0.18",
          "state": {
            "_model_module": "jupyter-leaflet",
            "_model_module_version": "^0.18",
            "_model_name": "LeafletWidgetControlModel",
            "_view_count": null,
            "_view_module": "jupyter-leaflet",
            "_view_module_version": "^0.18",
            "_view_name": "LeafletWidgetControlView",
            "max_height": null,
            "max_width": null,
            "min_height": null,
            "min_width": null,
            "options": [
              "position",
              "transparent_bg"
            ],
            "position": "topright",
            "transparent_bg": false,
            "widget": "IPY_MODEL_5f82c66bad0e45ea831df84c22955e76"
          }
        },
        "8847c77e16594c52b2143f64f7b50524": {
          "model_module": "jupyter-leaflet",
          "model_name": "LeafletAttributionControlModel",
          "model_module_version": "^0.18",
          "state": {
            "_model_module": "jupyter-leaflet",
            "_model_module_version": "^0.18",
            "_model_name": "LeafletAttributionControlModel",
            "_view_count": null,
            "_view_module": "jupyter-leaflet",
            "_view_module_version": "^0.18",
            "_view_name": "LeafletAttributionControlView",
            "options": [
              "position",
              "prefix"
            ],
            "position": "bottomright",
            "prefix": "ipyleaflet"
          }
        },
        "7050d5b5e5f741db94be6de000269318": {
          "model_module": "jupyter-leaflet",
          "model_name": "LeafletLayersControlModel",
          "model_module_version": "^0.18",
          "state": {
            "_model_module": "jupyter-leaflet",
            "_model_module_version": "^0.18",
            "_model_name": "LeafletLayersControlModel",
            "_view_count": null,
            "_view_module": "jupyter-leaflet",
            "_view_module_version": "^0.18",
            "_view_name": "LeafletLayersControlView",
            "collapsed": true,
            "options": [
              "collapsed",
              "position"
            ],
            "position": "topright"
          }
        },
        "d372ece9de7e437386d998265b861ad8": {
          "model_module": "jupyter-leaflet",
          "model_name": "LeafletMapStyleModel",
          "model_module_version": "^0.18",
          "state": {
            "_model_module": "jupyter-leaflet",
            "_model_module_version": "^0.18",
            "_model_name": "LeafletMapStyleModel",
            "_view_count": null,
            "_view_module": "@jupyter-widgets/base",
            "_view_module_version": "1.2.0",
            "_view_name": "StyleView",
            "cursor": "grab"
          }
        },
        "21f81e721eec48aebce25ec0b501e217": {
          "model_module": "jupyter-leaflet",
          "model_name": "LeafletMapStyleModel",
          "model_module_version": "^0.18",
          "state": {
            "_model_module": "jupyter-leaflet",
            "_model_module_version": "^0.18",
            "_model_name": "LeafletMapStyleModel",
            "_view_count": null,
            "_view_module": "@jupyter-widgets/base",
            "_view_module_version": "1.2.0",
            "_view_name": "StyleView",
            "cursor": "move"
          }
        },
        "4ac35d396c33446583c2c5cebabeb484": {
          "model_module": "jupyter-leaflet",
          "model_name": "LeafletTileLayerModel",
          "model_module_version": "^0.18",
          "state": {
            "_model_module": "jupyter-leaflet",
            "_model_module_version": "^0.18",
            "_model_name": "LeafletTileLayerModel",
            "_view_count": null,
            "_view_module": "jupyter-leaflet",
            "_view_module_version": "^0.18",
            "_view_name": "LeafletTileLayerView",
            "attribution": "&copy; <a href=\"https://www.openstreetmap.org/copyright\">OpenStreetMap</a> contributors",
            "base": true,
            "bottom": true,
            "bounds": null,
            "detect_retina": false,
            "loading": false,
            "max_native_zoom": null,
            "max_zoom": 19,
            "min_native_zoom": null,
            "min_zoom": 1,
            "name": "OpenStreetMap.Mapnik",
            "no_wrap": false,
            "opacity": 1,
            "options": [
              "attribution",
              "bounds",
              "detect_retina",
              "max_native_zoom",
              "max_zoom",
              "min_native_zoom",
              "min_zoom",
              "no_wrap",
              "tile_size",
              "tms",
              "zoom_offset"
            ],
            "pane": "",
            "popup": null,
            "popup_max_height": null,
            "popup_max_width": 300,
            "popup_min_width": 50,
            "show_loading": false,
            "subitems": [],
            "tile_size": 256,
            "tms": false,
            "url": "https://tile.openstreetmap.org/{z}/{x}/{y}.png",
            "visible": true,
            "zoom_offset": 0
          }
        },
        "cfafa54f1c14412292c376dba10dcb7d": {
          "model_module": "@jupyter-widgets/base",
          "model_name": "LayoutModel",
          "model_module_version": "1.2.0",
          "state": {
            "_model_module": "@jupyter-widgets/base",
            "_model_module_version": "1.2.0",
            "_model_name": "LayoutModel",
            "_view_count": null,
            "_view_module": "@jupyter-widgets/base",
            "_view_module_version": "1.2.0",
            "_view_name": "LayoutView",
            "align_content": null,
            "align_items": null,
            "align_self": null,
            "border": null,
            "bottom": null,
            "display": null,
            "flex": null,
            "flex_flow": null,
            "grid_area": null,
            "grid_auto_columns": null,
            "grid_auto_flow": null,
            "grid_auto_rows": null,
            "grid_column": null,
            "grid_gap": null,
            "grid_row": null,
            "grid_template_areas": null,
            "grid_template_columns": null,
            "grid_template_rows": null,
            "height": "600px",
            "justify_content": null,
            "justify_items": null,
            "left": null,
            "margin": null,
            "max_height": null,
            "max_width": null,
            "min_height": null,
            "min_width": null,
            "object_fit": null,
            "object_position": null,
            "order": null,
            "overflow": null,
            "overflow_x": null,
            "overflow_y": null,
            "padding": null,
            "right": null,
            "top": null,
            "visibility": null,
            "width": null
          }
        },
        "814b3365ee6a41768993d1d595a19daa": {
          "model_module": "jupyter-leaflet",
          "model_name": "LeafletMapStyleModel",
          "model_module_version": "^0.18",
          "state": {
            "_model_module": "jupyter-leaflet",
            "_model_module_version": "^0.18",
            "_model_name": "LeafletMapStyleModel",
            "_view_count": null,
            "_view_module": "@jupyter-widgets/base",
            "_view_module_version": "1.2.0",
            "_view_name": "StyleView",
            "cursor": "grab"
          }
        },
        "0b21fec06ab843fba952ab1aca3b6d35": {
          "model_module": "@jupyter-widgets/controls",
          "model_name": "HBoxModel",
          "model_module_version": "1.5.0",
          "state": {
            "_dom_classes": [
              "geemap-colab"
            ],
            "_model_module": "@jupyter-widgets/controls",
            "_model_module_version": "1.5.0",
            "_model_name": "HBoxModel",
            "_view_count": null,
            "_view_module": "@jupyter-widgets/controls",
            "_view_module_version": "1.5.0",
            "_view_name": "HBoxView",
            "box_style": "",
            "children": [
              "IPY_MODEL_aafa0cdfb3c845fda1326096f78b97a4"
            ],
            "layout": "IPY_MODEL_c6d1feafe3044636a8ba95054f9df42b"
          }
        },
        "5f82c66bad0e45ea831df84c22955e76": {
          "model_module": "@jupyter-widgets/controls",
          "model_name": "VBoxModel",
          "model_module_version": "1.5.0",
          "state": {
            "_dom_classes": [
              "geemap-colab"
            ],
            "_model_module": "@jupyter-widgets/controls",
            "_model_module_version": "1.5.0",
            "_model_name": "VBoxModel",
            "_view_count": null,
            "_view_module": "@jupyter-widgets/controls",
            "_view_module_version": "1.5.0",
            "_view_name": "VBoxView",
            "box_style": "",
            "children": [
              "IPY_MODEL_34ac5c4a6fb94f198044b1d8b7438f2f"
            ],
            "layout": "IPY_MODEL_31cf3aba59f74af59a3c19b47a4024e9"
          }
        },
        "aafa0cdfb3c845fda1326096f78b97a4": {
          "model_module": "@jupyter-widgets/controls",
          "model_name": "ToggleButtonModel",
          "model_module_version": "1.5.0",
          "state": {
            "_dom_classes": [],
            "_model_module": "@jupyter-widgets/controls",
            "_model_module_version": "1.5.0",
            "_model_name": "ToggleButtonModel",
            "_view_count": null,
            "_view_module": "@jupyter-widgets/controls",
            "_view_module_version": "1.5.0",
            "_view_name": "ToggleButtonView",
            "button_style": "",
            "description": "",
            "description_tooltip": null,
            "disabled": false,
            "icon": "globe",
            "layout": "IPY_MODEL_f1b56cff18b84cd099f00dbc24d5819e",
            "style": "IPY_MODEL_ac6089332e294f32b7251eef65bb0232",
            "tooltip": "Search location/data",
            "value": false
          }
        },
        "c6d1feafe3044636a8ba95054f9df42b": {
          "model_module": "@jupyter-widgets/base",
          "model_name": "LayoutModel",
          "model_module_version": "1.2.0",
          "state": {
            "_model_module": "@jupyter-widgets/base",
            "_model_module_version": "1.2.0",
            "_model_name": "LayoutModel",
            "_view_count": null,
            "_view_module": "@jupyter-widgets/base",
            "_view_module_version": "1.2.0",
            "_view_name": "LayoutView",
            "align_content": null,
            "align_items": null,
            "align_self": null,
            "border": null,
            "bottom": null,
            "display": null,
            "flex": null,
            "flex_flow": null,
            "grid_area": null,
            "grid_auto_columns": null,
            "grid_auto_flow": null,
            "grid_auto_rows": null,
            "grid_column": null,
            "grid_gap": null,
            "grid_row": null,
            "grid_template_areas": null,
            "grid_template_columns": null,
            "grid_template_rows": null,
            "height": null,
            "justify_content": null,
            "justify_items": null,
            "left": null,
            "margin": null,
            "max_height": null,
            "max_width": null,
            "min_height": null,
            "min_width": null,
            "object_fit": null,
            "object_position": null,
            "order": null,
            "overflow": null,
            "overflow_x": null,
            "overflow_y": null,
            "padding": null,
            "right": null,
            "top": null,
            "visibility": null,
            "width": null
          }
        },
        "34ac5c4a6fb94f198044b1d8b7438f2f": {
          "model_module": "@jupyter-widgets/controls",
          "model_name": "ToggleButtonModel",
          "model_module_version": "1.5.0",
          "state": {
            "_dom_classes": [],
            "_model_module": "@jupyter-widgets/controls",
            "_model_module_version": "1.5.0",
            "_model_name": "ToggleButtonModel",
            "_view_count": null,
            "_view_module": "@jupyter-widgets/controls",
            "_view_module_version": "1.5.0",
            "_view_name": "ToggleButtonView",
            "button_style": "",
            "description": "",
            "description_tooltip": null,
            "disabled": false,
            "icon": "wrench",
            "layout": "IPY_MODEL_cb727c17313a4271947df0a4a5387983",
            "style": "IPY_MODEL_6693b8d67c77407d9a5c25feb3cf219a",
            "tooltip": "Toolbar",
            "value": false
          }
        },
        "31cf3aba59f74af59a3c19b47a4024e9": {
          "model_module": "@jupyter-widgets/base",
          "model_name": "LayoutModel",
          "model_module_version": "1.2.0",
          "state": {
            "_model_module": "@jupyter-widgets/base",
            "_model_module_version": "1.2.0",
            "_model_name": "LayoutModel",
            "_view_count": null,
            "_view_module": "@jupyter-widgets/base",
            "_view_module_version": "1.2.0",
            "_view_name": "LayoutView",
            "align_content": null,
            "align_items": null,
            "align_self": null,
            "border": null,
            "bottom": null,
            "display": null,
            "flex": null,
            "flex_flow": null,
            "grid_area": null,
            "grid_auto_columns": null,
            "grid_auto_flow": null,
            "grid_auto_rows": null,
            "grid_column": null,
            "grid_gap": null,
            "grid_row": null,
            "grid_template_areas": null,
            "grid_template_columns": null,
            "grid_template_rows": null,
            "height": null,
            "justify_content": null,
            "justify_items": null,
            "left": null,
            "margin": null,
            "max_height": null,
            "max_width": null,
            "min_height": null,
            "min_width": null,
            "object_fit": null,
            "object_position": null,
            "order": null,
            "overflow": null,
            "overflow_x": null,
            "overflow_y": null,
            "padding": null,
            "right": null,
            "top": null,
            "visibility": null,
            "width": null
          }
        },
        "f1b56cff18b84cd099f00dbc24d5819e": {
          "model_module": "@jupyter-widgets/base",
          "model_name": "LayoutModel",
          "model_module_version": "1.2.0",
          "state": {
            "_model_module": "@jupyter-widgets/base",
            "_model_module_version": "1.2.0",
            "_model_name": "LayoutModel",
            "_view_count": null,
            "_view_module": "@jupyter-widgets/base",
            "_view_module_version": "1.2.0",
            "_view_name": "LayoutView",
            "align_content": null,
            "align_items": null,
            "align_self": null,
            "border": null,
            "bottom": null,
            "display": null,
            "flex": null,
            "flex_flow": null,
            "grid_area": null,
            "grid_auto_columns": null,
            "grid_auto_flow": null,
            "grid_auto_rows": null,
            "grid_column": null,
            "grid_gap": null,
            "grid_row": null,
            "grid_template_areas": null,
            "grid_template_columns": null,
            "grid_template_rows": null,
            "height": "28px",
            "justify_content": null,
            "justify_items": null,
            "left": null,
            "margin": null,
            "max_height": null,
            "max_width": null,
            "min_height": null,
            "min_width": null,
            "object_fit": null,
            "object_position": null,
            "order": null,
            "overflow": null,
            "overflow_x": null,
            "overflow_y": null,
            "padding": "0px 0px 0px 4px",
            "right": null,
            "top": null,
            "visibility": null,
            "width": "28px"
          }
        },
        "ac6089332e294f32b7251eef65bb0232": {
          "model_module": "@jupyter-widgets/controls",
          "model_name": "DescriptionStyleModel",
          "model_module_version": "1.5.0",
          "state": {
            "_model_module": "@jupyter-widgets/controls",
            "_model_module_version": "1.5.0",
            "_model_name": "DescriptionStyleModel",
            "_view_count": null,
            "_view_module": "@jupyter-widgets/base",
            "_view_module_version": "1.2.0",
            "_view_name": "StyleView",
            "description_width": ""
          }
        },
        "cb727c17313a4271947df0a4a5387983": {
          "model_module": "@jupyter-widgets/base",
          "model_name": "LayoutModel",
          "model_module_version": "1.2.0",
          "state": {
            "_model_module": "@jupyter-widgets/base",
            "_model_module_version": "1.2.0",
            "_model_name": "LayoutModel",
            "_view_count": null,
            "_view_module": "@jupyter-widgets/base",
            "_view_module_version": "1.2.0",
            "_view_name": "LayoutView",
            "align_content": null,
            "align_items": null,
            "align_self": null,
            "border": null,
            "bottom": null,
            "display": null,
            "flex": null,
            "flex_flow": null,
            "grid_area": null,
            "grid_auto_columns": null,
            "grid_auto_flow": null,
            "grid_auto_rows": null,
            "grid_column": null,
            "grid_gap": null,
            "grid_row": null,
            "grid_template_areas": null,
            "grid_template_columns": null,
            "grid_template_rows": null,
            "height": "28px",
            "justify_content": null,
            "justify_items": null,
            "left": null,
            "margin": null,
            "max_height": null,
            "max_width": null,
            "min_height": null,
            "min_width": null,
            "object_fit": null,
            "object_position": null,
            "order": null,
            "overflow": null,
            "overflow_x": null,
            "overflow_y": null,
            "padding": "0px 0px 0px 4px",
            "right": null,
            "top": null,
            "visibility": null,
            "width": "28px"
          }
        },
        "6693b8d67c77407d9a5c25feb3cf219a": {
          "model_module": "@jupyter-widgets/controls",
          "model_name": "DescriptionStyleModel",
          "model_module_version": "1.5.0",
          "state": {
            "_model_module": "@jupyter-widgets/controls",
            "_model_module_version": "1.5.0",
            "_model_name": "DescriptionStyleModel",
            "_view_count": null,
            "_view_module": "@jupyter-widgets/base",
            "_view_module_version": "1.2.0",
            "_view_name": "StyleView",
            "description_width": ""
          }
        }
      }
    }
  },
  "nbformat": 4,
  "nbformat_minor": 5
}